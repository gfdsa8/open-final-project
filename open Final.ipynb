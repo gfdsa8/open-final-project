{
 "cells": [
  {
   "cell_type": "code",
   "execution_count": 11,
   "metadata": {},
   "outputs": [],
   "source": [
    "import requests\n",
    "from bs4 import BeautifulSoup\n",
    " \n",
    "response = requests.get('http://www.weather.go.kr/weather/observation/currentweather.jsp')\n",
    "soup = BeautifulSoup(response.content, 'html.parser')\n",
    " \n",
    "table = soup.find('table', { 'class': 'table_develop3' })\n",
    "data = []\n",
    "for tr in table.find_all('tr'):\n",
    "    tds = list(tr.find_all('td'))\n",
    "\n",
    "    for td in tds:\n",
    "        if td.find('a'):\n",
    "            point = td.find('a').text\n",
    "            temperature = tds[5].text\n",
    "            feeltemp = tds[7].text\n",
    "            humidity = tds[10].text\n",
    "            data.append([point, temperature, feeltemp, humidity])\n",
    "            \n",
    "with open('weather.csv', 'w') as file:\n",
    "    file.write('point,temperature,feeltemp,humidity\\n')\n",
    "    for i in data:\n",
    "        file.write('{0},{1},{2},{3}\\n'.format(i[0], i[1], i[2], i[3]))"
   ]
  },
  {
   "cell_type": "code",
   "execution_count": 12,
   "metadata": {},
   "outputs": [
    {
     "data": {
      "text/html": [
       "<div>\n",
       "<style scoped>\n",
       "    .dataframe tbody tr th:only-of-type {\n",
       "        vertical-align: middle;\n",
       "    }\n",
       "\n",
       "    .dataframe tbody tr th {\n",
       "        vertical-align: top;\n",
       "    }\n",
       "\n",
       "    .dataframe thead th {\n",
       "        text-align: right;\n",
       "    }\n",
       "</style>\n",
       "<table border=\"1\" class=\"dataframe\">\n",
       "  <thead>\n",
       "    <tr style=\"text-align: right;\">\n",
       "      <th></th>\n",
       "      <th>temperature</th>\n",
       "      <th>feeltemp</th>\n",
       "      <th>humidity</th>\n",
       "    </tr>\n",
       "    <tr>\n",
       "      <th>point</th>\n",
       "      <th></th>\n",
       "      <th></th>\n",
       "      <th></th>\n",
       "    </tr>\n",
       "  </thead>\n",
       "  <tbody>\n",
       "    <tr>\n",
       "      <th>강릉</th>\n",
       "      <td>9.2</td>\n",
       "      <td>7.6</td>\n",
       "      <td>21</td>\n",
       "    </tr>\n",
       "    <tr>\n",
       "      <th>강진군</th>\n",
       "      <td>7.9</td>\n",
       "      <td>4.7</td>\n",
       "      <td>43</td>\n",
       "    </tr>\n",
       "    <tr>\n",
       "      <th>강화</th>\n",
       "      <td>3.5</td>\n",
       "      <td>1.6</td>\n",
       "      <td>39</td>\n",
       "    </tr>\n",
       "    <tr>\n",
       "      <th>거제</th>\n",
       "      <td>8.2</td>\n",
       "      <td>6.8</td>\n",
       "      <td>26</td>\n",
       "    </tr>\n",
       "    <tr>\n",
       "      <th>거창</th>\n",
       "      <td>7.2</td>\n",
       "      <td>7.2</td>\n",
       "      <td>18</td>\n",
       "    </tr>\n",
       "    <tr>\n",
       "      <th>...</th>\n",
       "      <td>...</td>\n",
       "      <td>...</td>\n",
       "      <td>...</td>\n",
       "    </tr>\n",
       "    <tr>\n",
       "      <th>합천</th>\n",
       "      <td>7.7</td>\n",
       "      <td>7.7</td>\n",
       "      <td>28</td>\n",
       "    </tr>\n",
       "    <tr>\n",
       "      <th>해남</th>\n",
       "      <td>6.9</td>\n",
       "      <td>6.0</td>\n",
       "      <td>50</td>\n",
       "    </tr>\n",
       "    <tr>\n",
       "      <th>홍성</th>\n",
       "      <td>4.4</td>\n",
       "      <td>2.2</td>\n",
       "      <td>50</td>\n",
       "    </tr>\n",
       "    <tr>\n",
       "      <th>홍천</th>\n",
       "      <td>3.4</td>\n",
       "      <td>1.5</td>\n",
       "      <td>29</td>\n",
       "    </tr>\n",
       "    <tr>\n",
       "      <th>흑산도</th>\n",
       "      <td>7.6</td>\n",
       "      <td>5.1</td>\n",
       "      <td>71</td>\n",
       "    </tr>\n",
       "  </tbody>\n",
       "</table>\n",
       "<p>95 rows × 3 columns</p>\n",
       "</div>"
      ],
      "text/plain": [
       "       temperature  feeltemp  humidity\n",
       "point                                 \n",
       "강릉             9.2       7.6        21\n",
       "강진군            7.9       4.7        43\n",
       "강화             3.5       1.6        39\n",
       "거제             8.2       6.8        26\n",
       "거창             7.2       7.2        18\n",
       "...            ...       ...       ...\n",
       "합천             7.7       7.7        28\n",
       "해남             6.9       6.0        50\n",
       "홍성             4.4       2.2        50\n",
       "홍천             3.4       1.5        29\n",
       "흑산도            7.6       5.1        71\n",
       "\n",
       "[95 rows x 3 columns]"
      ]
     },
     "execution_count": 12,
     "metadata": {},
     "output_type": "execute_result"
    }
   ],
   "source": [
    "import pandas as pd\n",
    "import matplotlib as mpl\n",
    "import matplotlib.pyplot as plt\n",
    "\n",
    "df = pd.read_csv('weather.csv', index_col='point', encoding='euc-kr')\n",
    "df.groupby(['point'])\n",
    "\n",
    "df"
   ]
  },
  {
   "cell_type": "code",
   "execution_count": 14,
   "metadata": {},
   "outputs": [
    {
     "data": {
      "text/plain": [
       "<matplotlib.legend.Legend at 0x180c210d4c0>"
      ]
     },
     "execution_count": 14,
     "metadata": {},
     "output_type": "execute_result"
    },
    {
     "data": {
      "image/png": "[encoded data removed]",
      "text/plain": [
       "<Figure size 864x288 with 1 Axes>"
      ]
     },
     "metadata": {
      "needs_background": "light"
     },
     "output_type": "display_data"
    }
   ],
   "source": [
    "font_name = mpl.font_manager.FontProperties(fname='C:/Windows/Fonts/malgun.ttf').get_name()\n",
    "mpl.rc('font', family=font_name)\n",
    "city_df = df.loc[['서울', '인천', '대전', '대구', '광주', '부산', '울산']]\n",
    "ax = city_df.plot(kind='bar', title='날씨', figsize=(12, 4), legend=True, fontsize=12)\n",
    "ax.set_xlabel('도시', fontsize=12)\n",
    "ax.set_ylabel('기온/습도', fontsize=12)\n",
    "ax.legend(['기온', '체감기온' ,'습도'], fontsize=12)"
   ]
  },
  {
   "cell_type": "code",
   "execution_count": null,
   "metadata": {},
   "outputs": [],
   "source": []
  }
 ],
 "metadata": {
  "kernelspec": {
   "display_name": "Python 3",
   "language": "python",
   "name": "python3"
  },
  "language_info": {
   "codemirror_mode": {
    "name": "ipython",
    "version": 3
   },
   "file_extension": ".py",
   "mimetype": "text/x-python",
   "name": "python",
   "nbconvert_exporter": "python",
   "pygments_lexer": "ipython3",
   "version": "3.8.3"
  }
 },
 "nbformat": 4,
 "nbformat_minor": 4
}
